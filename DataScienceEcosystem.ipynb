{
 "cells": [
  {
   "cell_type": "markdown",
   "id": "2618edcc-70f5-4b7b-97b7-dda7fd21dbf3",
   "metadata": {},
   "source": [
    "Data Science Tools and Ecosystem"
   ]
  },
  {
   "cell_type": "markdown",
   "id": "4eb1175a-c6d6-486b-a91e-b49eef0417f2",
   "metadata": {},
   "source": [
    "In this notebook, Data Science Tools and Ecosystem are summarized."
   ]
  },
  {
   "cell_type": "markdown",
   "id": "2afc5286-a1a9-47fb-ba83-ece0944ac804",
   "metadata": {},
   "source": [
    "Some of the popular languages that Data Scientists use are:\n",
    "1- SQL\n",
    "2- Python\n",
    "3- R"
   ]
  },
  {
   "cell_type": "markdown",
   "id": "43990907-928f-4602-8f2d-f6ed21e33408",
   "metadata": {},
   "source": [
    "Some of the commonly used libraries used by Data Scientists include:\n",
    "1- Pandas\n",
    "2- NumPy\n",
    "3- Scikit-learn"
   ]
  },
  {
   "cell_type": "markdown",
   "id": "613e89ee-5ef2-4b64-a80e-e18862b5dc93",
   "metadata": {},
   "source": [
    "Data Science ToolS\n",
    "1- Apache Hadoop\n",
    "2- Tableau\n",
    "3- TensorFlow"
   ]
  },
  {
   "cell_type": "markdown",
   "id": "e7e5f262-b11e-4d62-9f1c-780d4c131424",
   "metadata": {},
   "source": [
    "Below are a few examples of evaluating arithmetic expressions in Python"
   ]
  },
  {
   "cell_type": "code",
   "execution_count": 5,
   "id": "d7d6ba55-60c4-451a-a3b8-611df9dc7ceb",
   "metadata": {},
   "outputs": [
    {
     "name": "stdout",
     "output_type": "stream",
     "text": [
      "15\n"
     ]
    }
   ],
   "source": [
    "x = 5\n",
    "y = 10\n",
    "z = x + y\n",
    "print(z)"
   ]
  },
  {
   "cell_type": "code",
   "execution_count": 6,
   "id": "9087c2d0-f1cc-433b-955a-b5b37a9b8de9",
   "metadata": {},
   "outputs": [
    {
     "data": {
      "text/plain": [
       "60"
      ]
     },
     "execution_count": 6,
     "metadata": {},
     "output_type": "execute_result"
    }
   ],
   "source": [
    "(3*4)*5 # This a simple arithmetic expression to mutiply then add integers"
   ]
  },
  {
   "cell_type": "code",
   "execution_count": null,
   "id": "4134589e-0037-444c-8e39-9fbec5216e2e",
   "metadata": {},
   "outputs": [],
   "source": [
    "200 / 60 # This will convert 200 minutes to hours by diving by 60"
   ]
  },
  {
   "cell_type": "markdown",
   "id": "b8dc5787-a705-4cb6-ba8f-61a25334a54e",
   "metadata": {},
   "source": [
    "Objectives:\n",
    "- This a simple arithmetic expression to mutiply then add integers\n",
    "- Below are a few examples of evaluating arithmetic expressions in Python\n",
    "- Some of the commonly used libraries used by Data Scientists include"
   ]
  },
  {
   "cell_type": "raw",
   "id": "2cb2284b-8937-4d9f-beda-a763f6726bfb",
   "metadata": {},
   "source": [
    "Author : Mertcan Alkan"
   ]
  }
 ],
 "metadata": {
  "kernelspec": {
   "display_name": "Python",
   "language": "python",
   "name": "conda-env-python-py"
  },
  "language_info": {
   "codemirror_mode": {
    "name": "ipython",
    "version": 3
   },
   "file_extension": ".py",
   "mimetype": "text/x-python",
   "name": "python",
   "nbconvert_exporter": "python",
   "pygments_lexer": "ipython3",
   "version": "3.7.12"
  }
 },
 "nbformat": 4,
 "nbformat_minor": 5
}
